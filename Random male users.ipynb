{
 "cells": [
  {
   "cell_type": "markdown",
   "id": "47b025df",
   "metadata": {},
   "source": [
    "Using Python and the appropriate Python package of your choice, access https://randomuser.me/ api and list the top 100 male users."
   ]
  },
  {
   "cell_type": "code",
   "execution_count": 21,
   "id": "ee721e6c",
   "metadata": {},
   "outputs": [],
   "source": [
    "import requests"
   ]
  },
  {
   "cell_type": "code",
   "execution_count": 22,
   "id": "3121a9dd",
   "metadata": {},
   "outputs": [],
   "source": [
    "url = 'https://randomuser.me/api/?gender=male&results=100'\n",
    "response = requests.get(url)"
   ]
  },
  {
   "cell_type": "code",
   "execution_count": 23,
   "id": "a0b9010f",
   "metadata": {},
   "outputs": [],
   "source": [
    "data = response.json()"
   ]
  },
  {
   "cell_type": "code",
   "execution_count": 25,
   "id": "aeb5b54d",
   "metadata": {
    "scrolled": false
   },
   "outputs": [
    {
     "name": "stdout",
     "output_type": "stream",
     "text": [
      "1. Luis Garza\n",
      "2. Reginald Day\n",
      "3. Svyatovid Kirchiv\n",
      "4. Veeti Jarvinen\n",
      "5. Miodrag Jevtić\n",
      "6. Theo Anderson\n",
      "7. Viktor Hunstad\n",
      "8. Lenni Linna\n",
      "9. Stanoje Nenezić\n",
      "10. Johann Nau\n",
      "11. Barış Adal\n",
      "12. Vilho Hanninen\n",
      "13. Mehmet Biçer\n",
      "14. Felix Brown\n",
      "15. Rubén Haro\n",
      "16. Ritthy Butler\n",
      "17. Prodan Abramović\n",
      "18. Macit Balcı\n",
      "19. Frederick Butler\n",
      "20. Flavio Gutiérrez\n",
      "21. Xavier Smith\n",
      "22. Jakob Perkins\n",
      "23. Heinrich Marchand\n",
      "24. Alessandro Garnier\n",
      "25. Paul Sims\n",
      "26. Víctor Domínguez\n",
      "27. Blake Cunningham\n",
      "28. Emiliano Ríos\n",
      "29. Ramiro Contreras\n",
      "30. Cristóbal Román\n",
      "31. Anton Halko\n",
      "32. Tjitte Hofland\n",
      "33. Felix Petersen\n",
      "34. Aatu Hakala\n",
      "35. Ramon Luijendijk\n",
      "36. Ronald Tillmann\n",
      "37. Benjamin Christiansen\n",
      "38. Noe Rey\n",
      "39. Naod Farias\n",
      "40. Manuel Ramos\n",
      "41. Aleksi Paavola\n",
      "42. Tom Simon\n",
      "43. Raúl Meraz\n",
      "44. عرشيا زارعی\n",
      "45. Jakob Peterson\n",
      "46. Mathis Mitchell\n",
      "47. Camilo Concepción\n",
      "48. Lester Fields\n",
      "49. Adem Evliyaoğlu\n",
      "50. Xavier Li\n",
      "51. Terrence Cook\n",
      "52. Eduard Robin\n",
      "53. Viktor Giraud\n",
      "54. رهام جعفری\n",
      "55. Novak Jakšić\n",
      "56. John Baker\n",
      "57. Tom Davis\n",
      "58. Chad Watkins\n",
      "59. Arthur Johnson\n",
      "60. Xavier Martin\n",
      "61. Eelis Leinonen\n",
      "62. Gunbir Bhardwaj\n",
      "63. طاها سهيلي راد\n",
      "64. Olivier Brar\n",
      "65. Philip Jørgensen\n",
      "66. Grgur Topić\n",
      "67. Luis Nieto\n",
      "68. Akseli Niva\n",
      "69. Brayden Schmidt\n",
      "70. Yasin Hagberg\n",
      "71. Marvin Romero\n",
      "72. Dario Sanchez\n",
      "73. Advaith Kamath\n",
      "74. Vorotislav Gunchak\n",
      "75. رادین مرادی\n",
      "76. Biloslav Masoha\n",
      "77. Philip Erbe\n",
      "78. Bibiano da Cruz\n",
      "79. Radivoy Kuzmenko\n",
      "80. Paulino Carvalho\n",
      "81. Kerim Kıraç\n",
      "82. Coşkun Özbey\n",
      "83. Leopold Kraft\n",
      "84. Ryan Singh\n",
      "85. Guillermo Santos\n",
      "86. Simeon Raspopović\n",
      "87. Dustin Chavez\n",
      "88. Jamie Sutton\n",
      "89. Elias Poulsen\n",
      "90. Željko Šarović\n",
      "91. Matheus Kydland\n",
      "92. Mark Nagelhout\n",
      "93. Roope Marttila\n",
      "94. Terrance Alvarez\n",
      "95. Landon Shelton\n",
      "96. Leon Baker\n",
      "97. Teerth Bhat\n",
      "98. Roland Fuller\n",
      "99. Alberto Henderson\n",
      "100. مهراد حسینی\n"
     ]
    }
   ],
   "source": [
    "for index, user in enumerate(data['results']):   \n",
    "    print(f\"{index+1}. {user['name']['first']} {user['name']['last']}\")"
   ]
  },
  {
   "cell_type": "code",
   "execution_count": null,
   "id": "6e519c1f",
   "metadata": {},
   "outputs": [],
   "source": []
  }
 ],
 "metadata": {
  "kernelspec": {
   "display_name": "Python 3 (ipykernel)",
   "language": "python",
   "name": "python3"
  },
  "language_info": {
   "codemirror_mode": {
    "name": "ipython",
    "version": 3
   },
   "file_extension": ".py",
   "mimetype": "text/x-python",
   "name": "python",
   "nbconvert_exporter": "python",
   "pygments_lexer": "ipython3",
   "version": "3.9.13"
  }
 },
 "nbformat": 4,
 "nbformat_minor": 5
}
